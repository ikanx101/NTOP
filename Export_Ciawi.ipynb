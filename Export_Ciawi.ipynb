{
  "nbformat": 4,
  "nbformat_minor": 0,
  "metadata": {
    "colab": {
      "provenance": [],
      "authorship_tag": "ABX9TyMZENUBqbdQhDJ0qP2hCUFC",
      "include_colab_link": true
    },
    "kernelspec": {
      "name": "ir",
      "display_name": "R"
    },
    "language_info": {
      "name": "R"
    }
  },
  "cells": [
    {
      "cell_type": "markdown",
      "metadata": {
        "id": "view-in-github",
        "colab_type": "text"
      },
      "source": [
        "<a href=\"https://colab.research.google.com/github/ikanx101/NTOP/blob/main/Export_Ciawi.ipynb\" target=\"_parent\"><img src=\"https://colab.research.google.com/assets/colab-badge.svg\" alt=\"Open In Colab\"/></a>"
      ]
    },
    {
      "cell_type": "code",
      "execution_count": 11,
      "metadata": {
        "id": "HXmNr-HGuGAD"
      },
      "outputs": [],
      "source": [
        "rm(list=ls())\n",
        "\n",
        "# libraries\n",
        "library(dplyr)\n",
        "library(expss)\n",
        "library(openxlsx)\n",
        "\n",
        "# ambil data yang sudah dihasilkan oleh optimizationerizer\n",
        "load(\"dbase_toko.rda\")\n",
        "load(\"ciawi done.rda\")\n",
        "\n",
        "# hanya ambil data customer yang berguna\n",
        "df_cust_complete_ready = df_cust_complete_ready %>% \n",
        "                         select(nama_toko,provinsi,kota_kab,kecamatan)\n",
        "\n",
        "# jangan lupa ganti tanggal\n",
        "# sesuai dengan tanggal awal\n",
        "tanggal_minimal = as.Date(as.character(\"2022-12-01\"),\n",
        "                          \"%Y-%m-%d\")\n",
        "\n",
        "# kita bikin workbook-nya\n",
        "wb = createWorkbook()\n",
        "\n",
        "# sebagai contoh\n",
        "ikanx = 1\n",
        "\n",
        "# berapa banyak tanggal pengiriman\n",
        "n_tanggal_kirim = length(jadwal_tanggal_armada)\n",
        "\n",
        "for(ikanx in 1:n_tanggal_kirim){\n",
        "  # ==============================================================================\n",
        "  # kita mulai deduksinya dari sini\n",
        "  temp = jadwal_tanggal_armada[[ikanx]] %>% \n",
        "         mutate(tanggal_kirim = tanggal_kirim + tanggal_minimal - 1)\n",
        "\n",
        "  # sekarang kita mulai\n",
        "  tanggal = paste0(\"TglKrm \",temp$tanggal_kirim[1])\n",
        "\n",
        "  temp = \n",
        "    temp %>% \n",
        "    merge(df_cust_complete_ready) %>% \n",
        "    select(sales_order,nama_toko,provinsi,kota_kab,kecamatan,\n",
        "           armada_terpilih,armada_ke,\n",
        "           order_kubikasi,\n",
        "           order_tonase) %>% \n",
        "    arrange(armada_terpilih,armada_ke) %>% \n",
        "    rename(jenis_armada = armada_terpilih) %>% \n",
        "    mutate(jenis_armada = case_when(\n",
        "           jenis_armada == 1 ~ \"Carry\",\n",
        "           jenis_armada == 2 ~ \"CDE\",\n",
        "           jenis_armada == 3 ~ \"CDD\",\n",
        "           jenis_armada == 4 ~ \"CDD Jumbo\",\n",
        "           jenis_armada == 5 ~ \"Fuso\",\n",
        "           jenis_armada == 6 ~ \"Tronton\",\n",
        "           jenis_armada == 7 ~ \"BU\",\n",
        "           jenis_armada == 8 ~ \"Cont 20\",\n",
        "           jenis_armada == 9 ~ \"Cont 40\"\n",
        "    )) %>%\n",
        "    group_split(jenis_armada,armada_ke)\n",
        "\n",
        "    # bikin sheet\n",
        "    nama_sheet = paste0(tanggal)\n",
        "    sh = addWorksheet(wb, nama_sheet)\n",
        "\n",
        "    # isi tabelnya\n",
        "    tabel_all = temp\n",
        "\n",
        "    # masukin semua tabel ke sheet tersebut\n",
        "    xl_write(tabel_all, wb, sh)\n",
        "}\n",
        "\n"
      ]
    },
    {
      "cell_type": "code",
      "source": [
        "# export ke Excel\n",
        "saveWorkbook(wb, \"hasil optimasi.xlsx\", overwrite = TRUE)"
      ],
      "metadata": {
        "id": "S6FgwMOjwACo"
      },
      "execution_count": 12,
      "outputs": []
    }
  ]
}